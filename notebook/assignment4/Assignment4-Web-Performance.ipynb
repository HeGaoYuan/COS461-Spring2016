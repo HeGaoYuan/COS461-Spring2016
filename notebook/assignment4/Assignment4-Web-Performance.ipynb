{
 "cells": [
  {
   "cell_type": "markdown",
   "metadata": {},
   "source": [
    "# Assignment 4: Web Performance"
   ]
  },
  {
   "cell_type": "markdown",
   "metadata": {},
   "source": [
    "### Due 5:00 p.m. Tuesday, May 10, 2016\n",
    "\n",
    "### Background\n",
    "\n",
    "In this assignment, you will build a caching web proxy that incorporates various performance optimizations to improve Web performance. Many of the optimizations that you will explore in this assignment are similar to those that ISPs and content providers alike are designing and implementing on their networks to improve Web performance.\n",
    "\n",
    "You'll build on the web proxy that you implemented in assignment one by adding various performance optimizations, and then apply various web performance analysis techniques to analyze the effects of your performance improvements.\n",
    "\n",
    "### Getting Started\n",
    "* On your host machine (laptop), go to the course directory. \n",
    "```bash \n",
    "$ cd COS461-Spring2016\n",
    "```\n",
    "\n",
    "* Now, pull the latest update from Github.\n",
    "```bash\n",
    "$ git pull\n",
    "```\n",
    "\n",
    "* Reprovision your VM as follows: \n",
    "```bash\n",
    "$ vagrant reload --provision\n",
    "```\n",
    "* You  will  find the  programming  assignment  in  the vm  under  the\n",
    "  following directory:\n",
    "```bash\n",
    "vagrant@cos461:~$ ls /vagrant/notebook/assignment4\n",
    "Assignment4-Web-Performance.ipynb  dev  figures  README.md  scripts\n",
    "```\n",
    "\n",
    "* You will find the following files in the `dev` directory:\n",
    "```bash\n",
    "vagrant@cos461:~$ ls /vagrant/notebook/assignment4/dev\n",
    "http_client.go         Makefile          proxy4.go          README            \n",
    "```\n",
    "\n",
    "This notebook is for visualization only, so you will not change any of the code in the cells below. However, to run different sets of experiments, you will change a few parameters in the cells that call the programs you will implement. You will implement this assignment entirely in Go using the start code in the assignment directory. The directory scripts contains Python files that you can use to work on the course VM directly instead of working on the notebook."
   ]
  },
  {
   "cell_type": "markdown",
   "metadata": {},
   "source": [
    "### Part 1: HTTP Proxy\n",
    "\n",
    "In this part  of the assignment, you will extend  the proxy server you implemented  in the first assignment to  include  a few  performance enhancements.   You  will  implement   the  following:  caching, link prefetching, and  DNS prefetching. Your proxy  should be configurable, i.e., you should be  able to turn on/off each of  the new features, as you  will evaluate  the  performance improvement  that  each  feature yields.  All of the features  should be  off by default. To enable a feature, you should pass the parameter corresponding to the feature in\n",
    "the command line, as we explain in detail below.\n",
    "\n",
    "Run the proxy with the following command:\n",
    "\n",
    "`./proxy [parameters]`\n",
    "\n",
    "The parameters are:\n",
    "\n",
    "* `-port=NUMBER`,  if present,  set the  listening  port of  the proxy  to NUMBER. The default is 8080.\n",
    "\n",
    "* `-dns`, if present, turn on DNS prefetching.\n",
    "\n",
    "* `-cache`, if present, turn on caching.\n",
    "\n",
    "* `-timeout=NUMBER`, if present, change the default value of cached object to NUMBER seconds. The default value  is 120 seconds. The section about caching gives more details about this parameter.\n",
    "\n",
    "* `-max_cache=NUMBER`,  if   present,  set  the  maximum   cache  size  to NUMBER. The default value is 10MB.\n",
    "\n",
    "* `-max_obj=NUMBER`, if present, set the  maximum size of objects that can be cached.  Objects larger than `max_obj`  must not be cached.  For the object size, consider only the body  of an HTTP response, i.e, do not consider the bytes in the HTTP headers and in the status-code line. The default value is 500KB.\n",
    "\n",
    "* `-link`, if present, turn on link prefetching.\n",
    "\n",
    "* `-max_conc=NUMBER`, if  present, set the  maximum number of  threads for link prefetching to NUMBER. The default value is 10.\n",
    "\n",
    "* `-file=file_name`, if present, set the  log file name for the proxy. The default value is proxy.log.\n",
    "\n",
    "We provide  an initial Go file  that parses the command  line and sets the corresponding global variables.\n",
    "\n",
    "#### Getting Data From the Remote Server\n",
    "\n",
    "You  will  change your  proxy  to send  HTTP/1.1 requests   to   the  server.    You will also  add   the   header <b>`Accept-Encoding`</b> with the value <b>`gzip`</b>.\n",
    "\n",
    "Accept from the client:\n",
    "\n",
    "<pre>GET http://www.princeton.edu/ HTTP/1.1\n",
    "</pre>\n",
    "\n",
    "Send to remove server:\n",
    "<pre>GET / HTTP/1.1\n",
    "Host: www.princeton.edu\n",
    "Accept-Encoding: gzip\n",
    "(Additional client specified headers, if any)\n",
    "</pre>\n",
    "\n",
    "By adding support to gzip, you will be able to test your proxy with Firefox without changing its default behavior. Also, you will observe performance improvement over the proxy of Assignment 1.\n",
    "\n",
    "#### DNS Prefetching\n",
    "\n",
    "DNS prefetching is a technique whereby the web proxy may resolve domain names for embedded links before a user clicks on any of the links. The idea behind DNS prefetching is to improve page load time by reducing the time required to perform a DNS lookup. DNS prefetching relies on a simple prediction: If a user asks  for a particular page, the odds are that he or she will next request a page linked from that page. DNS  prefetching uses this information to attempt to speed up browsing by parsing requested pages for links, and subsequently resolving the  server names that are  linked from the requested pages.  Resolving the domain names in advance reduces overall page load time by reducing the time required for DNS lookups when a user requests a subsequent page.\n",
    "\n",
    "In this assignment, you will parse HTML pages that that a client requests and issue queries to populate the cache of the DNS resolver with the addresses  of all servers that are linked  from the requested pages. When your proxy attempts to connect to a server whose address is cached in the DNS resolver, the resolver will return a response much more quickly, as it does not need to issue a new query and wait for a response. Note that you do not need to implement a DNS cache in your proxy.\n",
    "\n",
    "To parse an HTML page,  you  will need  to study  the Go  package <b>`net/html`</b>.   Since you  are accepting  gzip files,  you will  need to study the Go package <b>`compress/gzip`</b>.\n",
    "\n",
    "#### Caching Web Objects\n",
    "\n",
    "Caching is one of the most common performance enhancements that web proxies implement. Caching takes advantage of the fact that many pages on the web do not change that often, and that a user who visits a page is likely to visit the same page at some point in the future; many users who share a common web proxy can benefit from objects and pages that are cached as a result of other users' requests.  A caching  proxy server saves  a copy  of the  objects (i.e., files) that  it retrieves from \"origin\" web servers. When another request comes  in for the same  object, the cache returns  the  saved (or  cached)  copy instead  of retrieving the object from the origin server.  By returning the cached object to the client, a cache can significantly reduce the overall time to load a web page a more distant server or a remote server that is overloaded (it can also help reduce the load on heavily trafficked servers).\n",
    "\n",
    "Caching  introduces a  few new complexities as  well.  First, you'll need  to alter how  your proxy  retrieves pages. Your proxy should now check to see whether a page exists  in the proxy memory before retrieving a page from a remote server.  HTTP defines a complex caching model where web servers  can give instructions  as to  how the objects  they serve should be cached and clients can  specify how caches are used on their behalf. The header <b>`Cache-Control`</b> in  a request or response defines the instructions to  the proxy. You can  read Section 14.9 of  RFC 2116 for the details of the cache control mechanisms in HTTP.\n",
    "\n",
    "https://www.w3.org/Protocols/rfc2616/rfc2616-sec14.html\n",
    "\n",
    "In this assignment, you  will use a simplified approach.  When your proxy  queries a  web server  on behalf of a client, you should cache the  object in  memory as  you transmit it  back to  the client, unless  the  `Cache-Control`  header  of  the  response  contains  the <b>`no-cache`</b> instruction.  If  another client requests the same object at  some later time, your  proxy does not need  to retrieve the object from the server again if it  is still valid. To determine if an object is still valid,  you need to check if it is in  the cache for a time shorter  than the parameter  \"timeout\" that you specified  in the command line.   Thus, you will  need to  store the time  when the cached object  was retrieved  (retrieval time). If  the object  is not valid, you will  issue a <b>conditional GET request</b> to  the web server. A conditional GET  includes a  header <b>`If-Modified-Since`</b> and  returns a copy of the object only if it was modified on the web server.\n",
    "\n",
    "An example of the If-Modified-Since header is:\n",
    "\n",
    "       If-Modified-Since: Sat, 29 Oct 1994 19:43:31 GMT\n",
    "\n",
    "If the  object has  not been  modified since  the specified  time, the server will respond with a status code 304. Otherwise, the server will respond as  if the request  were a normal  GET, i.e., the  server will respond with a status code 200 if the object were found.\n",
    "\n",
    "After the  GET command, you  should update  the retrieval time  of the object, even if a  new copy of the object was  not returned.\n",
    "\n",
    "Note  that  the If-Modified-Since  header  requires  the RFC1123  date format.  You can  get  a string  in this  format  using the  following commands in Go:\n",
    "\n",
    "`modifiedTime := storedTime.UTC()`\n",
    "\n",
    "`timeString   := modifiedTime.Format(\"Mon, 02 Jan 2006 15:04:05 GMT\"))`\n",
    "\n",
    "storedTime stores the time the proxy retrieved the object. You need to declare the storedTime variable in your cache data structure.\n",
    "\n",
    "Needless  to say,  if  your proxy  stores every  object  that is  ever requested, it  will require unlimited memory.   To limit the amount of memory required (and to simplify testing) you will establish a maximum cache size and evict objects  from the cache when the size  exceeds this maximum. The maximum cache  size is specified in the command  line when you run your proxy.\n",
    "\n",
    "You will implement the  Least Recently  Used (LRU)  cache replacement policy  when deciding  which objects  to evict.   Note that reads and writes of a cached object both count as “using” an object.\n",
    "\n",
    "Another  problem  is  that  some  web objects  are  much  larger  than others. It is  probably not a good idea to  replace several objects in your cache with one single big object. Therefore, you will not cache objects larger than the parameter `max_obj` specified in the command line.\n",
    "\n",
    "Because this cache is a shared resource among your connection threads, you must  make sure your  cache is  thread-safe. A simple strategy to make your cache thread-safe is to use  a mutex lock to  ensure that a thread writing to the cache is the only one accessing it.\n",
    "\n",
    "#### Link Prefetching\n",
    "\n",
    "The basic intuition behind link prefetching is   similar    to   DNS prefetching. Instead of prefetching DNS names, however, your proxy will parse requested pages for links and fetch the linked pages in the  background.  The pages fetched from the links are stored in  the cache, ready to be served to the client when  they are requested without the client  having to wait around for the remote server to be contacted.\n",
    "\n",
    "Parsing and  fetching links  can take an  appreciable amount  of time, especially for a page with a lot of links. For this reason, you should spawn  a Go  routine for  each link  that you  will prefetch,  but you should limit  the maximum number  of threads  to `max_conc`, which  is a command-line parameter.  To limit the number of threads, you must use Go channels. You don't need to prefetch embedded objects, as the  browser will issue  the requests anyway.  Therefore, you just need to look  for \"a\" tags with key \"href\" and prefetch those. Note that the proxy must not prefetch links for HTTPS.\n",
    "\n",
    "If link  prefetching is  on, you should  not perform  DNS prefetching, even if  `dns` is passed  in the command  line, as the  link prefetching will issue  DNS requests anyway. On  the other hand, you  have to turn caching on, even if caching is not specified in the command line.\n"
   ]
  },
  {
   "cell_type": "markdown",
   "metadata": {},
   "source": [
    "### Part 2: HTTP Client\n",
    "\n",
    "In this part of the assignment, you will implement an HTTP client in Go with different modes of behavior specified in the command-line parameters. The parameters for the HTTP client are listed below and are explained in more detail in the sections below:\n",
    "\n",
    "`./http_client [parameters]`\n",
    "\n",
    "* `-url=URL` specifies the URL.\n",
    "\n",
    "* `-waterfall`, if present, select the waterfall behavior for the client.\n",
    "\n",
    "* `-browser`, if present, select the browser behavior for the client.\n",
    "\n",
    "* `-outfile=FILENAME`  specifies the  filename  for the  waterfall or  the browser measurements.\n",
    "\n",
    "* `-num_reqs=NUMBER` specifies the number of links that will be randomly fetched. The default value is 20.\n",
    "\n",
    "* `-init_time=NUMBER` specifies the number of seconds to sleep before the start of link fetching. The default value is 30 seconds.\n",
    "\n",
    "* `-sleep_time=NUMBER` specifies the number of seconds to sleep between two link fetches. The default value is 5 seconds.\n",
    "\n",
    "* `-proxy=IP_ADDRESS:PORT` specifies the IP address and port number of the proxy for the simulated browser. If proxy is not specified, you should fetch the urls directly from their servers. \n",
    "\n",
    "#### HTTP Waterfall\n",
    "\n",
    "To better understand and appreciate the effects of different performance optimizations, it helps to understand what aspects contribute to webpage load time. Much like you might \"profile\" an application to determine which parts of your code are running slowly, you can look at the process of loading a webpage to determine which parts of the page load are contributing most to overall load time. A common way to visualization for web performance is an HTTP waterfall.\n",
    "\n",
    "An  HTTP waterfall  chart  is a  diagram that  depicts  the series  of actions that  occur between a  user and a server  until a Web  page is displayed in  a user’s browser.  Each  row of the chart  represents an object (text, images, JavaScript, 3rd party components, etc.)  that a Web page  contains and shows the  round-trip time between the  user and the server. Whenever  one single object  on the page underperforms, your user experience will be negatively affected.\n",
    "\n",
    "A waterfall chart reveals six key metrics: \n",
    "\n",
    "* DNS Lookup Time: This is when the browser looks up the domain of the  requested page.\n",
    "\n",
    "* Connecting: This  shows the  user  and the  server sending  and receiving acknowledgment that a connection has been made, and data can begin to be transferred. This is the  time it takes for TCP connect to execute.\n",
    "\n",
    "* Time to First Byte: This is the window of time between asking for Web content and getting the first byte back from the  server.\n",
    "\n",
    "* Content Download:  This is the time it takes  for every piece of content to be  sent from the server  back to the user  browser.\n",
    "\n",
    "* Start Render: This  is the  time it takes  for the  browser to start displaying the page.\n",
    "\n",
    "* Document Complete: This is the  time it takes for your Web page to fully load in the browser.\n",
    "\n",
    "You can visit the  site http://www.webpagetest.org/ and test different URLs to see  how an HTTP Waterfall looks like.  Alternatively, you can see waterfall charts on the Chrome  browser by right clicking  on the page and selecting \"Inspect\" and then clicking on the \"Network\" tab.\n",
    "\n",
    "The New York Times published  an interesting article  about impatient web users and how download times matter for the success of a business. The article is  illustrated with a picture of an  engineer analyzing a waterfall chart.  You can read the full article at\n",
    "\n",
    "http://www.nytimes.com/2012/03/01/technology/impatient-web-users-flee-slow-loading-sites.html?_r=0\n",
    "\n",
    "\n",
    "In this  assignment, you  will implement a  simplified version  of the waterfall chart.  You will implement  an HTTP client that  receives a URL in the command line and generates the load time for:\n",
    "\n",
    "1. DNS Lookup Time\n",
    "\n",
    "2. Connecting\n",
    "\n",
    "3. Content Download\n",
    "\n",
    "You will generate the data corresponding  to each bar in the following format:\n",
    "\n",
    "* DXX start_time end_time\n",
    "\n",
    "* TYY start_time end_time\n",
    "\n",
    "* LXX start_time end_time\n",
    "\n",
    "DXX  is for  DNS requests,  TYY is  for TCP  connect, and  LZZ is  for content  download  times.   The  double  letters  after  the  initials represent  sequential  numbers,  e.g,  D01, T01,  L01  for  the  first occurrence of the  initial.  `start_time` and `end_time` should  be a time in  milliseconds relative  to  the beginning  of  the execution.   You should store  the time of  the beginning  of the client  execution and then compute  the difference for determining  `start_time` and `end_time`.\n",
    "\n",
    "One important difference between the waterfall you will generate and those generated by a browser is that your client will issue each HTTP request sequentially; in contrast, browsers typically send multiple parallel requests. Consequently, the total time to load a page will be significantly higher than you would observe on a browser, but the analysis will be much simpler.\n",
    "\n",
    "You will initially compute the three times listed above for the URL that you pass to the client at the command line.  Then, you will parse the HTML file and download the  embedded images  only (objects with  a tag  \"img\").  For each image,  you will always  compute the Connecting time  and Content Download time, but you will not compute the DNS time if the web server was previously accessed.  Therefore, you should keep a dictionary that maps server names  to IP addresses to avoid the  DNS lookup time (this DNS  caching is  something  that  the browsers  do,  so  you would  be mimicking the browser  behavior). Note that the net.Dial  method of Go does a  DNS lookup  if you  pass the  server name,  but it  avoids the lookup if you pass the IP address of the server.\n",
    "\n",
    "You will save the data in a file; you will pass the filename as a parameter at the command line.\n",
    "\n",
    "The cell bellow generates a waterfall chart and the cell after calls the HTTP client and plot the waterfall chart.\n",
    "(The starter code contains a function that will save the data in the proper format to a file)."
   ]
  },
  {
   "cell_type": "code",
   "execution_count": 15,
   "metadata": {
    "collapsed": false
   },
   "outputs": [],
   "source": [
    "\"\"\"\n",
    "Creates a simple Gantt chart\n",
    "Adapted from https://bitbucket.org/DBrent/phd/src/1d1c5444d2ba2ee3918e0dfd5e886eaeeee49eec/visualisation/plot_gantt.py\n",
    "BHC 2014\n",
    "\"\"\"\n",
    "import matplotlib.pyplot as plt\n",
    "import matplotlib.font_manager as font_manager\n",
    "from matplotlib import colors as plot_colors \n",
    "from pylab import *\n",
    "\n",
    "import os\n",
    "import sys\n",
    "import math\n",
    "from subprocess import Popen, PIPE, call\n",
    "\n",
    "%matplotlib inline \n",
    "\n",
    "COLORS = plot_colors.cnames.keys() \n",
    "\n",
    "def get_color(ind):\n",
    "    global COLORS\n",
    "    return COLORS[ind % (len(COLORS))] \n",
    "\n",
    "def waterfall(data):\n",
    "\n",
    "    data_items = data.items()\n",
    "    data_items = sorted(data_items, key = lambda x : x[1][0])\n",
    "    labels = [x[0] for x in data_items]\n",
    "\n",
    "    mymax = 0.5*len(labels)+0.5\n",
    "    pos = arange(0.5,mymax,0.5)\n",
    " \n",
    "    # Initialise plot\n",
    " \n",
    "    fig = plt.figure(figsize=(15,12))\n",
    "    ax = fig.add_subplot(111)\n",
    "    # Plot the data\n",
    " \n",
    "    start, end = data[labels[0]]\n",
    "    ax.barh(0.55, (end - start), left=start, height=0.4, align='center', color = get_color(0))\n",
    "    for i in range(0,len(labels)-1):\n",
    "        start, end = data[labels[i+1]]\n",
    "        ax.barh((i*0.5)+1.0+0.05, (end - start), left=start, height=0.4, align='center', color = get_color(i + 1))\n",
    " \n",
    "\n",
    "    # Format the y-axis\n",
    "    locsy, labelsy = yticks(pos,labels)\n",
    "    plt.setp(labelsy, fontsize = 10)\n",
    "    plt.ylabel('Object (D=DNS, T=TCP Connect, L=Load)', fontsize=16)\n",
    " \n",
    "    # Format the x-axis\n",
    "    ax.axis('tight')\n",
    "    ax.set_ylim(ymin = -0.1, ymax = mymax)\n",
    "    ax.grid(color = 'g', linestyle = ':')\n",
    " \n",
    "    labelsx = ax.get_xticklabels()\n",
    "    plt.setp(labelsx, rotation=30, fontsize=12)\n",
    "    plt.xlabel('Time (ms)', fontsize=16)\n",
    " \n",
    "    # Format the legend\n",
    " \n",
    "    font = font_manager.FontProperties(size='small')\n",
    "    # ax.legend(loc=1,prop=font)\n",
    " \n",
    "    # Finish up\n",
    "    ax.invert_yaxis()\n",
    "    fig.autofmt_xdate()\n",
    "    plt.show()\n",
    "\n",
    "def get_data(fname):\n",
    "    f = open(fname, 'r')\n",
    "    data = {}\n",
    "    for line in f.readlines():\n",
    "        parts = [x.strip() for x in line.split()]\n",
    "        if len(parts) > 2:\n",
    "            data[parts[0]] = [float(parts[1]), float(parts[2])]\n",
    "\n",
    "    f.close()\n",
    "    return data\n"
   ]
  },
  {
   "cell_type": "markdown",
   "metadata": {},
   "source": [
    "#### Execute the client and Plot the Waterfall\n",
    "\n",
    "The cell below executes your HTTP client and plot the Waterfall chart."
   ]
  },
  {
   "cell_type": "code",
   "execution_count": 16,
   "metadata": {
    "collapsed": false
   },
   "outputs": [
    {
     "data": {
      "image/png": "[encoded data removed]",
      "text/plain": [
       "<matplotlib.figure.Figure at 0x7f2e6f66aad0>"
      ]
     },
     "metadata": {},
     "output_type": "display_data"
    }
   ],
   "source": [
    "import os\n",
    "import sys\n",
    "import math\n",
    "from subprocess import Popen, PIPE, call\n",
    "\n",
    "Popen(\"./dev/http_client -url=http://www.cs.princeton.edu/ -waterfall -file=./dev/chart > /dev/null\", shell=True).wait()\n",
    "data = get_data('./dev/chart')\n",
    "waterfall(data)"
   ]
  },
  {
   "cell_type": "markdown",
   "metadata": {},
   "source": [
    "#### Browsing Simulation\n",
    "\n",
    "Your task is  to build an HTTP client that  will retrieve HTTP objects and  measure  the response  time  of  your   proxy  under  different performance enhancements from Part 1. Your client will initially fetch a page, whose URL is passed as a parameter in the command line,  parse the page, and  issue new requests for  links that are present in the initial  page. More specifically, after the initial page is fetched, the client should sleep for `init_sleep` seconds and then issue `num_reqs` requests for randomly selected links  in the initial page (`init_sleep` and `num_reqs` are parameters specified in the command line). You will look for links  with \"a\" tags and  key \"href\". As  in Part 1, you  must not fetch links for HTTPS.\n"
   ]
  },
  {
   "cell_type": "markdown",
   "metadata": {},
   "source": [
    "### Part 3: Proxy Performance Measurements\n",
    "\n",
    "#### Execution Environment\n",
    "\n",
    "You will run a few experiments in an emulated Mininet topology. We have provided you with the following mininet network topology:\n",
    "\n",
    "<img width=600 src=\"figures/network_setup.png\">\n",
    "\n",
    "We have introduced an artificial delay between the private network and the public  Internet. This delay, typical of  long-distance links, will help you understand the possible benefits of a caching proxy.\n",
    "\n",
    "To run an experiment (detailed below), you will run the HTTP client on the host `client`,  and the proxy  server on  the host `proxy`.\n",
    "\n",
    "#### Measurements\n",
    "\n",
    "To measure the performance of  your caching proxy, you  will first use  your  HTTP client  to  retrieve  the  objects directly  from  the origin server to get the base  numbers for each  retrieved page. Then, you  will disable all of the performance  enhancements and run your HTTP client to measure the cost of going through an unoptimized proxy.   Finally, you  will   enable  each   optimization individually and repeat the experiment  you ran with the optimizations disabled. Note  that   link  prefetching is  equivalent to all optimizations enabled.   \n",
    "\n",
    "In summary, you will  analyze the performance benefits, and costs, of web caching proxy servers  by retrieving each object in three ways:\n",
    "\n",
    "1. From the caching proxy's cache. [Should yield the best performance]\n",
    "\n",
    "2. Directly from the object's originating web server. [Base case]\n",
    "\n",
    "3. From the  caching proxy, which in turn retrieves  the page from the server (no  performance enhancement enabled). [Should  yield the worst performance]\n",
    "\n",
    "\n",
    "You write a README, as part of your submission, that describes the optimizations that are more effective.\n",
    "\n",
    "To  collect the  data from  your measurements,  you should  update the following statistics variables that are declared in proxy4.go in the start code:\n",
    "\n",
    "* clientRequests: total number of HTTP requests\n",
    "\n",
    "* cacheHits: number of requests that were served from the cache (cache hits). \n",
    "\n",
    "* cacheMisses: number of requests that were not served from the cache (cache misses).\n",
    "\n",
    "* cacheEvictions: number of objects evicted from the cache.\n",
    "\n",
    "* trafficSent: number of bytes sent to the clients.\n",
    "\n",
    "* volumeFromCache: number of bytes sent from the cache to the clients.\n",
    "\n",
    "* downloadVolume: number of bytes that your proxy downloaded.\n",
    "\n",
    "These variables are shared with a thread that saves their values every minute. Therefore,  you should protect  them with a lock  whenever you read or write  to them. The starter code already defines a RW lock to  protect the statistics variables.   A RW  lock  allows concurrent accesses for read-only operations, but guarantees exclusive access for write operations. In Go, RW locks are available in the sync package.\n",
    "\n",
    "The variables cacheHits and cacheMisses must be incremented for objects that you are prefetching, too. More specifically, before prefetching an object, you need to check the cache for its presence. If the object is present,  increment the variable cacheHits and do not retrieve it again from the web server. Otherwise, increment the variable cacheMisses."
   ]
  },
  {
   "cell_type": "markdown",
   "metadata": {},
   "source": [
    "#### Create Mininet Topology\n",
    "\n",
    "The cell below creates the Mininet topology for the experiments."
   ]
  },
  {
   "cell_type": "code",
   "execution_count": 7,
   "metadata": {
    "collapsed": true
   },
   "outputs": [],
   "source": [
    "from mininet.cli import CLI\n",
    "from mininet.log import lg, info\n",
    "from mininet.node import Node, OVSController, CPULimitedHost\n",
    "from mininet.util import quietRun\n",
    "from mininet.topo import Topo\n",
    "from mininet.net import Mininet\n",
    "from mininet.link import TCLink\n",
    "\n",
    "#################################\n",
    "class NetTopo(Topo):\n",
    "\n",
    "    def __init__(self):\n",
    "        super(NetTopo, self).__init__()\n",
    "\n",
    "        client = self.addHost('client', ip = \"192.168.0.1\")\n",
    "        proxy = self.addHost('proxy', ip = \"192.168.0.2\")\n",
    "        \n",
    "        s1 = self.addSwitch('s1')\n",
    "\n",
    "        self.addLink(s1, client)\n",
    "        self.addLink(s1, proxy)\n",
    "\n",
    "def startNAT( root, inetIntf='eth0', subnet='192.168.0/24' ):\n",
    "    \"\"\"Start NAT/forwarding between Mininet and external network\n",
    "    root: node to access iptables from\n",
    "    inetIntf: interface for internet access\n",
    "    subnet: Mininet subnet (default 10.0/8)=\"\"\"\n",
    "\n",
    "    # Identify the interface connecting to the mininet network\n",
    "    localIntf =  root.defaultIntf()\n",
    "\n",
    "    # Flush any currently active rules\n",
    "    root.cmd( 'iptables -F' )\n",
    "    root.cmd( 'iptables -t nat -F' )\n",
    "\n",
    "    # Create default entries for unmatched traffic\n",
    "    root.cmd( 'iptables -P INPUT ACCEPT' )\n",
    "    root.cmd( 'iptables -P OUTPUT ACCEPT' )\n",
    "    root.cmd( 'iptables -P FORWARD DROP' )\n",
    "\n",
    "    # Configure NAT\n",
    "    root.cmd( 'iptables -I FORWARD -i', localIntf, '-d', subnet, '-j DROP' )\n",
    "    root.cmd( 'iptables -A FORWARD -i', localIntf, '-s', subnet, '-j ACCEPT' )\n",
    "    root.cmd( 'iptables -A FORWARD -i', inetIntf, '-d', subnet, '-j ACCEPT' )\n",
    "    root.cmd( 'iptables -t nat -A POSTROUTING -o ', inetIntf, '-j MASQUERADE' )\n",
    "\n",
    "    # Instruct the kernel to perform forwarding\n",
    "    root.cmd( 'sysctl net.ipv4.ip_forward=1' )\n",
    "\n",
    "def stopNAT( root ):\n",
    "    \"\"\"Stop NAT/forwarding between Mininet and external network\"\"\"\n",
    "    # Flush any currently active rules\n",
    "    root.cmd( 'iptables -F' )\n",
    "    root.cmd( 'iptables -t nat -F' )\n",
    "\n",
    "    # Instruct the kernel to stop forwarding\n",
    "    root.cmd( 'sysctl net.ipv4.ip_forward=0' )\n",
    "\n",
    "def fixNetworkManager( root, intf ):\n",
    "    \"\"\"Prevent network-manager from messing with our interface,\n",
    "       by specifying manual configuration in /etc/network/interfaces\n",
    "       root: a node in the root namespace (for running commands)\n",
    "       intf: interface name\"\"\"\n",
    "    cfile = '/etc/network/interfaces'\n",
    "    line = '\\niface %s inet manual\\n' % intf\n",
    "    config = open( cfile ).read()\n",
    "    if ( line ) not in config:\n",
    "        print '*** Adding', line.strip(), 'to', cfile\n",
    "        with open( cfile, 'a' ) as f:\n",
    "            f.write( line )\n",
    "    # Probably need to restart network-manager to be safe -\n",
    "    # hopefully this won't disconnect you\n",
    "    root.cmd( 'service network-manager restart' )\n",
    "\n",
    "def connectToInternet( network, switch='s1', routerip='192.168.0.254', subnet='192.168.0/24'):\n",
    "    \"\"\"Connect the network to the internet\n",
    "       switch: switch to connect to root namespace\n",
    "       routerip: address for interface in root namespace\n",
    "       subnet: Mininet subnet\"\"\"\n",
    "\n",
    "    switch = network.get( switch )\n",
    "    prefixLen = subnet.split( '/' )[ 1 ]\n",
    "    routes = [ subnet ]  # host networks to route to\n",
    "\n",
    "    # Create a node in root namespace\n",
    "    router = Node( 'router', inNamespace=False )\n",
    "    \n",
    "    # Prevent network-manager from interfering with our interface\n",
    "    fixNetworkManager( router, 'router-eth0' )\n",
    "\n",
    "    # Create link between root NS and switch\n",
    "    link = network.addLink( router, switch, delay='100ms')\n",
    "    link.intf1.setIP( routerip, prefixLen )\n",
    "\n",
    "    # Start network that now includes link to root namespace\n",
    "    network.start()\n",
    "\n",
    "    # Start NAT and establish forwarding\n",
    "    startNAT( router )\n",
    "\n",
    "    # Establish routes from end hosts\n",
    "    for host in network.hosts:\n",
    "        host.cmd( 'ip route flush root 0/0' )\n",
    "        host.cmd( 'route add -net', subnet, 'dev', host.defaultIntf() )\n",
    "        host.cmd( 'route add default gw', routerip )\n",
    "\n",
    "    return router"
   ]
  },
  {
   "cell_type": "markdown",
   "metadata": {},
   "source": [
    "#### Start Mininet\n",
    "\n",
    "The cell below starts mininet."
   ]
  },
  {
   "cell_type": "code",
   "execution_count": 8,
   "metadata": {
    "collapsed": false
   },
   "outputs": [],
   "source": [
    "from subprocess import call\n",
    "\n",
    "call([\"mn\", \"-c\"])\n",
    "topo = NetTopo()\n",
    "net = Mininet(topo=topo, link=TCLink, host=CPULimitedHost, controller = OVSController)\n",
    "# Configure and start NATted connectivity\n",
    "router = connectToInternet(net)"
   ]
  },
  {
   "cell_type": "markdown",
   "metadata": {},
   "source": [
    "#### Start Proxy Server\n",
    "\n",
    "The cell below starts your proxy on the appropriate host. You will change the parameters of the proxy to run different experiments."
   ]
  },
  {
   "cell_type": "code",
   "execution_count": 9,
   "metadata": {
    "collapsed": false
   },
   "outputs": [
    {
     "data": {
      "text/plain": [
       "<subprocess.Popen at 0x7f2e6f9b7ad0>"
      ]
     },
     "execution_count": 9,
     "metadata": {},
     "output_type": "execute_result"
    }
   ],
   "source": [
    "proxy = net.getNodeByName('proxy')\n",
    "proxy.popen(\"./scripts/dnsmasq restart\", shell=True).wait()\n",
    "proxy.popen(\"./dev/proxy4 -file=./dev/proxy.log -link > /dev/null\", shell=True) "
   ]
  },
  {
   "cell_type": "markdown",
   "metadata": {},
   "source": [
    "#### Run Client\n",
    "\n",
    "The cell below starts your http_client on the client host. You will change the parameters of the client to run different experiments."
   ]
  },
  {
   "cell_type": "code",
   "execution_count": 10,
   "metadata": {
    "collapsed": false
   },
   "outputs": [
    {
     "data": {
      "text/plain": [
       "0"
      ]
     },
     "execution_count": 10,
     "metadata": {},
     "output_type": "execute_result"
    }
   ],
   "source": [
    "client = net.getNodeByName('client')\n",
    "client.popen(\"./dev/http_client -url=http://www.cs.princeton.edu/ -browser -init_time=10 -sleep_time=1 -file=cs -proxy=192.168.0.2:8080 > /dev/null\", shell=True).wait()"
   ]
  },
  {
   "cell_type": "markdown",
   "metadata": {},
   "source": [
    "#### Show Cache Statistics\n",
    "\n",
    "The cell below plots a graph with statistics of your proxy's cache. "
   ]
  },
  {
   "cell_type": "code",
   "execution_count": 11,
   "metadata": {
    "collapsed": false
   },
   "outputs": [
    {
     "data": {
      "image/png": "[encoded data removed]",
      "text/plain": [
       "<matplotlib.figure.Figure at 0x7f2e76983c10>"
      ]
     },
     "metadata": {},
     "output_type": "display_data"
    }
   ],
   "source": [
    "import sys\n",
    "import matplotlib.pyplot as plt\n",
    "\n",
    "%matplotlib inline\n",
    "def plot(fname):\n",
    "    f = open(fname, 'r')\n",
    "    labels = f.readline()[1:].strip().split()\n",
    "    \n",
    "\n",
    "    data = [[], [], [], [], [], [], [], [], [], []]\n",
    "    i = 0\n",
    "    for line in f.readlines():\n",
    "        parts = [float(x.strip()) for x in line.split() if len(x.strip()) > 0]\n",
    "        if len(parts) > 9:\n",
    "            for ind, l in enumerate(data):\n",
    "                l.append(parts[ind]) \n",
    "    f.close()\n",
    "    \n",
    "    plt.figure(figsize=(12,6))\n",
    "    time = data[0]\n",
    "    for i in range(1, 5):\n",
    "        plt.plot(time, data[i], label = labels[i])\n",
    "    plt.legend(loc = 'center right')\n",
    "    pos, labelsy = yticks()\n",
    "    plt.setp(labelsy, fontsize = 12)\n",
    "    pos, labelsx = xticks()\n",
    "    plt.setp(labelsx, fontsize = 12)\n",
    "    plt.show()\n",
    "   \n",
    "plot('./dev/proxy.log')"
   ]
  },
  {
   "cell_type": "code",
   "execution_count": 12,
   "metadata": {
    "collapsed": false
   },
   "outputs": [
    {
     "data": {
      "text/plain": [
       "<matplotlib.figure.Figure at 0x7f2e7d03db50>"
      ]
     },
     "metadata": {},
     "output_type": "display_data"
    },
    {
     "data": {
      "image/png": "[encoded data removed]",
      "text/plain": [
       "<matplotlib.figure.Figure at 0x7f2e6f693650>"
      ]
     },
     "metadata": {},
     "output_type": "display_data"
    }
   ],
   "source": [
    "import sys\n",
    "import matplotlib.pyplot as plt\n",
    "\n",
    "%matplotlib inline\n",
    "def plot(fname):\n",
    "    f = open(fname, 'r')\n",
    "    labels = f.readline()[1:].strip().split()\n",
    "    \n",
    "\n",
    "    data = [[], [], [], [], [], [], [], [], [], []]\n",
    "    i = 0\n",
    "    for line in f.readlines():\n",
    "        parts = [float(x.strip()) for x in line.split() if len(x.strip()) > 0]\n",
    "        if len(parts) > 9:\n",
    "            for ind, l in enumerate(data):\n",
    "                l.append(parts[ind]) \n",
    "    f.close()\n",
    "    \n",
    "    plt.clf()\n",
    "    plt.figure(figsize=(12,6))\n",
    "    time = data[0]\n",
    "    pos, labelsy = yticks()\n",
    "    plt.setp(labelsy, fontsize = 12)\n",
    "    pos, labelsx = xticks()\n",
    "    plt.setp(labelsx, fontsize = 12)\n",
    "    \n",
    "    plt.plot(time, data[9], label = labels[9])\n",
    "    plt.legend(loc = 'center right')\n",
    "    plt.show()  \n",
    "   \n",
    "plot('./dev/proxy.log')"
   ]
  },
  {
   "cell_type": "markdown",
   "metadata": {},
   "source": [
    "#### Show Traffic Statistics\n",
    "\n",
    "The cell below plots statistics of the traffic that were sent or received by your proxy."
   ]
  },
  {
   "cell_type": "code",
   "execution_count": 13,
   "metadata": {
    "collapsed": false
   },
   "outputs": [
    {
     "data": {
      "text/plain": [
       "<matplotlib.figure.Figure at 0x7f2e76983c10>"
      ]
     },
     "metadata": {},
     "output_type": "display_data"
    },
    {
     "data": {
      "image/png": "[encoded data removed]",
      "text/plain": [
       "<matplotlib.figure.Figure at 0x7f2e740d7a10>"
      ]
     },
     "metadata": {},
     "output_type": "display_data"
    }
   ],
   "source": [
    "import sys\n",
    "import matplotlib.pyplot as plt\n",
    "\n",
    "%matplotlib inline\n",
    "def plot(fname):\n",
    "    f = open(fname, 'r')\n",
    "    labels = f.readline()[1:].strip().split()\n",
    "    \n",
    "\n",
    "    data = [[], [], [], [], [], [], [], [], [], []]\n",
    "    i = 0\n",
    "    for line in f.readlines():\n",
    "        parts = [float(x.strip()) for x in line.split() if len(x.strip()) > 0]\n",
    "        if len(parts) > 9:\n",
    "            for ind, l in enumerate(data):\n",
    "                l.append(parts[ind]) \n",
    "    f.close()\n",
    "    time = data[0]\n",
    "    plt.clf()\n",
    "    plt.figure(figsize=(12,6))\n",
    "    time = data[0]\n",
    "    pos, labelsy = yticks()\n",
    "    plt.setp(labelsy, fontsize = 12)\n",
    "    pos, labelsx = xticks()\n",
    "    plt.setp(labelsx, fontsize = 12)\n",
    "    \n",
    "    for i in range(5, 9):\n",
    "        plt.plot(time, data[i], label = labels[i])\n",
    "    plt.legend(loc = 'center right')\n",
    "    plt.show()\n",
    "    \n",
    "   \n",
    "plot('./dev/proxy.log')"
   ]
  },
  {
   "cell_type": "markdown",
   "metadata": {},
   "source": [
    "#### Stop Mininet"
   ]
  },
  {
   "cell_type": "code",
   "execution_count": 14,
   "metadata": {
    "collapsed": false
   },
   "outputs": [],
   "source": [
    "from subprocess import Popen, PIPE, call\n",
    "\n",
    "# Stop local resolver at the proxy\n",
    "proxy = net.getNodeByName('proxy')\n",
    "proxy.popen(\"./scripts/dnsmasq stop\")\n",
    "\n",
    "# Shut down NAT\n",
    "Popen(\"pgrep -f proxy4 | xargs kill -9\", shell=True).wait()\n",
    "stopNAT(router)\n",
    "\n",
    "# Shutdown mininet\n",
    "net.stop()"
   ]
  },
  {
   "cell_type": "markdown",
   "metadata": {},
   "source": [
    "### Submission and Grading\n",
    "\n",
    "#### Design Document\n",
    "\n",
    "You will submit a design document by <b>Tuesday, May 3 23:59pm</b>. This is a relatively long assignment and we want to make sure that you start early. In your document, you will describe the following:\n",
    "\n",
    "* the cache data struture;\n",
    "\n",
    "* how you will use Go channels to limit the number of threads in link prefetching (use pseudo-code);\n",
    "\n",
    "* how you will parse and process an html file (use pseudo-code).\n",
    "\n",
    "Submit a text file (design.txt) with the description of your design decisions. Do not forget to include the names of the group members.\n",
    "\n",
    "#### Source code\n",
    "You should submit  your completed proxy and client by Dean's date, as described at the beginning of this doument, to [CS Dropbox (https://dropbox.cs.princeton.edu/COS461_S2016/Assignment4). You should submit a tarball file containing the following:\n",
    "\n",
    "* Makefile and source code for the http client and proxy server\n",
    "\n",
    "* README file describing your implementation\n",
    "\n",
    "#### Grading \n",
    "This  assignment  is  worth  20  points,  with  the  following  points breakdown: two points for the design document, eight points for the http client, and ten points for the proxy server."
   ]
  }
 ],
 "metadata": {
  "kernelspec": {
   "display_name": "Python 2",
   "language": "python",
   "name": "python2"
  },
  "language_info": {
   "codemirror_mode": {
    "name": "ipython",
    "version": 2
   },
   "file_extension": ".py",
   "mimetype": "text/x-python",
   "name": "python",
   "nbconvert_exporter": "python",
   "pygments_lexer": "ipython2",
   "version": "2.7.6"
  }
 },
 "nbformat": 4,
 "nbformat_minor": 0
}
